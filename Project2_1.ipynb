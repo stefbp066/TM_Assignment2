{
  "cells": [
    {
      "cell_type": "markdown",
      "source": [
        "# 1 Sentiment analysis"
      ],
      "metadata": {
        "id": "1vJhr6RyFnRo"
      }
    },
    {
      "cell_type": "markdown",
      "metadata": {
        "id": "5hLz3Dio4s_g"
      },
      "source": [
        "## Loading data and prelimanry analysis"
      ]
    },
    {
      "cell_type": "markdown",
      "source": [
        "### Packages loading"
      ],
      "metadata": {
        "id": "DAwVzWyvAV12"
      }
    },
    {
      "cell_type": "code",
      "execution_count": null,
      "metadata": {
        "id": "I8Yl1Kp640J7",
        "colab": {
          "base_uri": "https://localhost:8080/"
        },
        "outputId": "8209a12e-198b-4178-e806-11ba509ebe29"
      },
      "outputs": [
        {
          "output_type": "stream",
          "name": "stdout",
          "text": [
            "Collecting contractions\n",
            "  Downloading contractions-0.1.73-py2.py3-none-any.whl (8.7 kB)\n",
            "Collecting textsearch>=0.0.21 (from contractions)\n",
            "  Downloading textsearch-0.0.24-py2.py3-none-any.whl (7.6 kB)\n",
            "Collecting anyascii (from textsearch>=0.0.21->contractions)\n",
            "  Downloading anyascii-0.3.2-py3-none-any.whl (289 kB)\n",
            "\u001b[2K     \u001b[90m━━━━━━━━━━━━━━━━━━━━━━━━━━━━━━━━━━━━━━━━\u001b[0m \u001b[32m289.9/289.9 kB\u001b[0m \u001b[31m6.0 MB/s\u001b[0m eta \u001b[36m0:00:00\u001b[0m\n",
            "\u001b[?25hCollecting pyahocorasick (from textsearch>=0.0.21->contractions)\n",
            "  Downloading pyahocorasick-2.0.0-cp310-cp310-manylinux_2_5_x86_64.manylinux1_x86_64.manylinux_2_12_x86_64.manylinux2010_x86_64.whl (110 kB)\n",
            "\u001b[2K     \u001b[90m━━━━━━━━━━━━━━━━━━━━━━━━━━━━━━━━━━━━━━━━\u001b[0m \u001b[32m110.8/110.8 kB\u001b[0m \u001b[31m6.4 MB/s\u001b[0m eta \u001b[36m0:00:00\u001b[0m\n",
            "\u001b[?25hInstalling collected packages: pyahocorasick, anyascii, textsearch, contractions\n",
            "Successfully installed anyascii-0.3.2 contractions-0.1.73 pyahocorasick-2.0.0 textsearch-0.0.24\n"
          ]
        }
      ],
      "source": [
        "!pip install contractions"
      ]
    },
    {
      "cell_type": "code",
      "execution_count": null,
      "metadata": {
        "id": "l5H9Tfuj4s_k",
        "outputId": "c01657bf-8a1d-4de9-ea3b-a3ec8103bf70",
        "colab": {
          "base_uri": "https://localhost:8080/"
        }
      },
      "outputs": [
        {
          "output_type": "stream",
          "name": "stderr",
          "text": [
            "[nltk_data] Downloading package stopwords to /root/nltk_data...\n",
            "[nltk_data]   Unzipping corpora/stopwords.zip.\n"
          ]
        },
        {
          "output_type": "execute_result",
          "data": {
            "text/plain": [
              "True"
            ]
          },
          "metadata": {},
          "execution_count": 2
        }
      ],
      "source": [
        "import nltk\n",
        "from nltk.corpus import stopwords\n",
        "import string\n",
        "import re\n",
        "import pandas as pd\n",
        "import contractions\n",
        "import numpy as np\n",
        "from sklearn.model_selection import train_test_split\n",
        "from bs4 import BeautifulSoup\n",
        "from sklearn.preprocessing import OneHotEncoder, LabelEncoder\n",
        "from keras.preprocessing.text import Tokenizer\n",
        "from keras.preprocessing.sequence import pad_sequences\n",
        "from keras.models import Sequential\n",
        "from keras.layers import Embedding, Flatten, LSTM, Dense, Dropout, GlobalAveragePooling1D\n",
        "from keras.callbacks import EarlyStopping\n",
        "from sklearn.metrics import confusion_matrix, f1_score, classification_report\n",
        "from keras.optimizers import Adam\n",
        "\n",
        "nltk.download('stopwords')"
      ]
    },
    {
      "cell_type": "markdown",
      "source": [
        "Due to the work being done on Google Colab, we opted to mount to a Google Drive folder containing the IMDB dataset."
      ],
      "metadata": {
        "id": "kU2vwvU9c8Ev"
      }
    },
    {
      "cell_type": "markdown",
      "metadata": {
        "id": "OicVwHoqw9F4"
      },
      "source": [
        "### Loading the data set"
      ]
    },
    {
      "cell_type": "code",
      "execution_count": null,
      "metadata": {
        "id": "Xqhj-tsD-F5T",
        "colab": {
          "base_uri": "https://localhost:8080/"
        },
        "outputId": "1911d181-539c-4c14-8c7b-01d15c7d8292"
      },
      "outputs": [
        {
          "output_type": "stream",
          "name": "stdout",
          "text": [
            "Mounted at /content/drive\n"
          ]
        }
      ],
      "source": [
        "from google.colab import drive\n",
        "\n",
        "# Mount Google Drive\n",
        "drive.mount('/content/drive')"
      ]
    },
    {
      "cell_type": "code",
      "execution_count": null,
      "metadata": {
        "id": "6AVujH4u4s_n"
      },
      "outputs": [],
      "source": [
        "# Specify the path to the CSV file in your Google Drive\n",
        "file_path = '/content/drive/MyDrive/Dataset Text Mining/IMDB Dataset.csv'\n"
      ]
    },
    {
      "cell_type": "code",
      "source": [
        "# Load the CSV file into a DataFrame\n",
        "data = pd.read_csv(file_path)\n",
        "\n",
        "# Display the summary of the dataset\n",
        "print(data.describe())"
      ],
      "metadata": {
        "colab": {
          "base_uri": "https://localhost:8080/"
        },
        "id": "608rbYSxnooX",
        "outputId": "20ababa3-08d1-4238-e06e-15007fc520f5"
      },
      "execution_count": null,
      "outputs": [
        {
          "output_type": "stream",
          "name": "stdout",
          "text": [
            "                                                   review sentiment\n",
            "count                                               50000     50000\n",
            "unique                                              49582         2\n",
            "top     Loved today's show!!! It was a variety and not...  positive\n",
            "freq                                                    5     25000\n"
          ]
        }
      ]
    },
    {
      "cell_type": "markdown",
      "source": [
        "It is noted that there are 25000 observations each on positive and negative sentiment, thus we have skipped considerations on oversampling/undersampling techniques."
      ],
      "metadata": {
        "id": "Q_MoGC5MdF9N"
      }
    },
    {
      "cell_type": "code",
      "execution_count": null,
      "metadata": {
        "id": "ZLXOX6tG4s_o",
        "outputId": "9eddea30-a876-487f-c75a-f4e1778962fb",
        "colab": {
          "base_uri": "https://localhost:8080/"
        }
      },
      "outputs": [
        {
          "output_type": "execute_result",
          "data": {
            "text/plain": [
              "positive    25000\n",
              "negative    25000\n",
              "Name: sentiment, dtype: int64"
            ]
          },
          "metadata": {},
          "execution_count": 6
        }
      ],
      "source": [
        "#sentiment count\n",
        "data['sentiment'].value_counts()"
      ]
    },
    {
      "cell_type": "code",
      "execution_count": null,
      "metadata": {
        "id": "tUMdKfqr4s_p",
        "outputId": "e71a252f-a218-435a-ac35-2c0efd58ba61",
        "colab": {
          "base_uri": "https://localhost:8080/",
          "height": 206
        }
      },
      "outputs": [
        {
          "output_type": "execute_result",
          "data": {
            "text/plain": [
              "                                              review sentiment\n",
              "0  One of the other reviewers has mentioned that ...  positive\n",
              "1  A wonderful little production. <br /><br />The...  positive\n",
              "2  I thought this was a wonderful way to spend ti...  positive\n",
              "3  Basically there's a family where a little boy ...  negative\n",
              "4  Petter Mattei's \"Love in the Time of Money\" is...  positive"
            ],
            "text/html": [
              "\n",
              "  <div id=\"df-636c389b-cd0e-472d-8c62-fbcf228827c5\" class=\"colab-df-container\">\n",
              "    <div>\n",
              "<style scoped>\n",
              "    .dataframe tbody tr th:only-of-type {\n",
              "        vertical-align: middle;\n",
              "    }\n",
              "\n",
              "    .dataframe tbody tr th {\n",
              "        vertical-align: top;\n",
              "    }\n",
              "\n",
              "    .dataframe thead th {\n",
              "        text-align: right;\n",
              "    }\n",
              "</style>\n",
              "<table border=\"1\" class=\"dataframe\">\n",
              "  <thead>\n",
              "    <tr style=\"text-align: right;\">\n",
              "      <th></th>\n",
              "      <th>review</th>\n",
              "      <th>sentiment</th>\n",
              "    </tr>\n",
              "  </thead>\n",
              "  <tbody>\n",
              "    <tr>\n",
              "      <th>0</th>\n",
              "      <td>One of the other reviewers has mentioned that ...</td>\n",
              "      <td>positive</td>\n",
              "    </tr>\n",
              "    <tr>\n",
              "      <th>1</th>\n",
              "      <td>A wonderful little production. &lt;br /&gt;&lt;br /&gt;The...</td>\n",
              "      <td>positive</td>\n",
              "    </tr>\n",
              "    <tr>\n",
              "      <th>2</th>\n",
              "      <td>I thought this was a wonderful way to spend ti...</td>\n",
              "      <td>positive</td>\n",
              "    </tr>\n",
              "    <tr>\n",
              "      <th>3</th>\n",
              "      <td>Basically there's a family where a little boy ...</td>\n",
              "      <td>negative</td>\n",
              "    </tr>\n",
              "    <tr>\n",
              "      <th>4</th>\n",
              "      <td>Petter Mattei's \"Love in the Time of Money\" is...</td>\n",
              "      <td>positive</td>\n",
              "    </tr>\n",
              "  </tbody>\n",
              "</table>\n",
              "</div>\n",
              "    <div class=\"colab-df-buttons\">\n",
              "\n",
              "  <div class=\"colab-df-container\">\n",
              "    <button class=\"colab-df-convert\" onclick=\"convertToInteractive('df-636c389b-cd0e-472d-8c62-fbcf228827c5')\"\n",
              "            title=\"Convert this dataframe to an interactive table.\"\n",
              "            style=\"display:none;\">\n",
              "\n",
              "  <svg xmlns=\"http://www.w3.org/2000/svg\" height=\"24px\" viewBox=\"0 -960 960 960\">\n",
              "    <path d=\"M120-120v-720h720v720H120Zm60-500h600v-160H180v160Zm220 220h160v-160H400v160Zm0 220h160v-160H400v160ZM180-400h160v-160H180v160Zm440 0h160v-160H620v160ZM180-180h160v-160H180v160Zm440 0h160v-160H620v160Z\"/>\n",
              "  </svg>\n",
              "    </button>\n",
              "\n",
              "  <style>\n",
              "    .colab-df-container {\n",
              "      display:flex;\n",
              "      gap: 12px;\n",
              "    }\n",
              "\n",
              "    .colab-df-convert {\n",
              "      background-color: #E8F0FE;\n",
              "      border: none;\n",
              "      border-radius: 50%;\n",
              "      cursor: pointer;\n",
              "      display: none;\n",
              "      fill: #1967D2;\n",
              "      height: 32px;\n",
              "      padding: 0 0 0 0;\n",
              "      width: 32px;\n",
              "    }\n",
              "\n",
              "    .colab-df-convert:hover {\n",
              "      background-color: #E2EBFA;\n",
              "      box-shadow: 0px 1px 2px rgba(60, 64, 67, 0.3), 0px 1px 3px 1px rgba(60, 64, 67, 0.15);\n",
              "      fill: #174EA6;\n",
              "    }\n",
              "\n",
              "    .colab-df-buttons div {\n",
              "      margin-bottom: 4px;\n",
              "    }\n",
              "\n",
              "    [theme=dark] .colab-df-convert {\n",
              "      background-color: #3B4455;\n",
              "      fill: #D2E3FC;\n",
              "    }\n",
              "\n",
              "    [theme=dark] .colab-df-convert:hover {\n",
              "      background-color: #434B5C;\n",
              "      box-shadow: 0px 1px 3px 1px rgba(0, 0, 0, 0.15);\n",
              "      filter: drop-shadow(0px 1px 2px rgba(0, 0, 0, 0.3));\n",
              "      fill: #FFFFFF;\n",
              "    }\n",
              "  </style>\n",
              "\n",
              "    <script>\n",
              "      const buttonEl =\n",
              "        document.querySelector('#df-636c389b-cd0e-472d-8c62-fbcf228827c5 button.colab-df-convert');\n",
              "      buttonEl.style.display =\n",
              "        google.colab.kernel.accessAllowed ? 'block' : 'none';\n",
              "\n",
              "      async function convertToInteractive(key) {\n",
              "        const element = document.querySelector('#df-636c389b-cd0e-472d-8c62-fbcf228827c5');\n",
              "        const dataTable =\n",
              "          await google.colab.kernel.invokeFunction('convertToInteractive',\n",
              "                                                    [key], {});\n",
              "        if (!dataTable) return;\n",
              "\n",
              "        const docLinkHtml = 'Like what you see? Visit the ' +\n",
              "          '<a target=\"_blank\" href=https://colab.research.google.com/notebooks/data_table.ipynb>data table notebook</a>'\n",
              "          + ' to learn more about interactive tables.';\n",
              "        element.innerHTML = '';\n",
              "        dataTable['output_type'] = 'display_data';\n",
              "        await google.colab.output.renderOutput(dataTable, element);\n",
              "        const docLink = document.createElement('div');\n",
              "        docLink.innerHTML = docLinkHtml;\n",
              "        element.appendChild(docLink);\n",
              "      }\n",
              "    </script>\n",
              "  </div>\n",
              "\n",
              "\n",
              "<div id=\"df-6ab4f7c7-2884-4cba-99b9-08a4e0c2b2d1\">\n",
              "  <button class=\"colab-df-quickchart\" onclick=\"quickchart('df-6ab4f7c7-2884-4cba-99b9-08a4e0c2b2d1')\"\n",
              "            title=\"Suggest charts\"\n",
              "            style=\"display:none;\">\n",
              "\n",
              "<svg xmlns=\"http://www.w3.org/2000/svg\" height=\"24px\"viewBox=\"0 0 24 24\"\n",
              "     width=\"24px\">\n",
              "    <g>\n",
              "        <path d=\"M19 3H5c-1.1 0-2 .9-2 2v14c0 1.1.9 2 2 2h14c1.1 0 2-.9 2-2V5c0-1.1-.9-2-2-2zM9 17H7v-7h2v7zm4 0h-2V7h2v10zm4 0h-2v-4h2v4z\"/>\n",
              "    </g>\n",
              "</svg>\n",
              "  </button>\n",
              "\n",
              "<style>\n",
              "  .colab-df-quickchart {\n",
              "      --bg-color: #E8F0FE;\n",
              "      --fill-color: #1967D2;\n",
              "      --hover-bg-color: #E2EBFA;\n",
              "      --hover-fill-color: #174EA6;\n",
              "      --disabled-fill-color: #AAA;\n",
              "      --disabled-bg-color: #DDD;\n",
              "  }\n",
              "\n",
              "  [theme=dark] .colab-df-quickchart {\n",
              "      --bg-color: #3B4455;\n",
              "      --fill-color: #D2E3FC;\n",
              "      --hover-bg-color: #434B5C;\n",
              "      --hover-fill-color: #FFFFFF;\n",
              "      --disabled-bg-color: #3B4455;\n",
              "      --disabled-fill-color: #666;\n",
              "  }\n",
              "\n",
              "  .colab-df-quickchart {\n",
              "    background-color: var(--bg-color);\n",
              "    border: none;\n",
              "    border-radius: 50%;\n",
              "    cursor: pointer;\n",
              "    display: none;\n",
              "    fill: var(--fill-color);\n",
              "    height: 32px;\n",
              "    padding: 0;\n",
              "    width: 32px;\n",
              "  }\n",
              "\n",
              "  .colab-df-quickchart:hover {\n",
              "    background-color: var(--hover-bg-color);\n",
              "    box-shadow: 0 1px 2px rgba(60, 64, 67, 0.3), 0 1px 3px 1px rgba(60, 64, 67, 0.15);\n",
              "    fill: var(--button-hover-fill-color);\n",
              "  }\n",
              "\n",
              "  .colab-df-quickchart-complete:disabled,\n",
              "  .colab-df-quickchart-complete:disabled:hover {\n",
              "    background-color: var(--disabled-bg-color);\n",
              "    fill: var(--disabled-fill-color);\n",
              "    box-shadow: none;\n",
              "  }\n",
              "\n",
              "  .colab-df-spinner {\n",
              "    border: 2px solid var(--fill-color);\n",
              "    border-color: transparent;\n",
              "    border-bottom-color: var(--fill-color);\n",
              "    animation:\n",
              "      spin 1s steps(1) infinite;\n",
              "  }\n",
              "\n",
              "  @keyframes spin {\n",
              "    0% {\n",
              "      border-color: transparent;\n",
              "      border-bottom-color: var(--fill-color);\n",
              "      border-left-color: var(--fill-color);\n",
              "    }\n",
              "    20% {\n",
              "      border-color: transparent;\n",
              "      border-left-color: var(--fill-color);\n",
              "      border-top-color: var(--fill-color);\n",
              "    }\n",
              "    30% {\n",
              "      border-color: transparent;\n",
              "      border-left-color: var(--fill-color);\n",
              "      border-top-color: var(--fill-color);\n",
              "      border-right-color: var(--fill-color);\n",
              "    }\n",
              "    40% {\n",
              "      border-color: transparent;\n",
              "      border-right-color: var(--fill-color);\n",
              "      border-top-color: var(--fill-color);\n",
              "    }\n",
              "    60% {\n",
              "      border-color: transparent;\n",
              "      border-right-color: var(--fill-color);\n",
              "    }\n",
              "    80% {\n",
              "      border-color: transparent;\n",
              "      border-right-color: var(--fill-color);\n",
              "      border-bottom-color: var(--fill-color);\n",
              "    }\n",
              "    90% {\n",
              "      border-color: transparent;\n",
              "      border-bottom-color: var(--fill-color);\n",
              "    }\n",
              "  }\n",
              "</style>\n",
              "\n",
              "  <script>\n",
              "    async function quickchart(key) {\n",
              "      const quickchartButtonEl =\n",
              "        document.querySelector('#' + key + ' button');\n",
              "      quickchartButtonEl.disabled = true;  // To prevent multiple clicks.\n",
              "      quickchartButtonEl.classList.add('colab-df-spinner');\n",
              "      try {\n",
              "        const charts = await google.colab.kernel.invokeFunction(\n",
              "            'suggestCharts', [key], {});\n",
              "      } catch (error) {\n",
              "        console.error('Error during call to suggestCharts:', error);\n",
              "      }\n",
              "      quickchartButtonEl.classList.remove('colab-df-spinner');\n",
              "      quickchartButtonEl.classList.add('colab-df-quickchart-complete');\n",
              "    }\n",
              "    (() => {\n",
              "      let quickchartButtonEl =\n",
              "        document.querySelector('#df-6ab4f7c7-2884-4cba-99b9-08a4e0c2b2d1 button');\n",
              "      quickchartButtonEl.style.display =\n",
              "        google.colab.kernel.accessAllowed ? 'block' : 'none';\n",
              "    })();\n",
              "  </script>\n",
              "</div>\n",
              "    </div>\n",
              "  </div>\n"
            ]
          },
          "metadata": {},
          "execution_count": 7
        }
      ],
      "source": [
        "data.head()"
      ]
    },
    {
      "cell_type": "markdown",
      "source": [
        "We note that from checking the first few observations that there are HTML-related tags and formats such as the \"&lt;br&gt;\" tag. Thus, we elected to remove these tags first.\n"
      ],
      "metadata": {
        "id": "yb1beeH8dLXq"
      }
    },
    {
      "cell_type": "markdown",
      "metadata": {
        "id": "JDdprq3D4s_s"
      },
      "source": [
        "## Pre-Processing\n"
      ]
    },
    {
      "cell_type": "markdown",
      "metadata": {
        "id": "ZM0Gjmom4s_p"
      },
      "source": [
        "### Removing HTML instructions\n"
      ]
    },
    {
      "cell_type": "markdown",
      "metadata": {
        "id": "UdGe2A574s_p"
      },
      "source": [
        "It is necessary to remove these tags before proceeding with the rest of the text pre-processing. The standard preprocessing steps might only remove '<' and '>', leaving the meaningless, letters."
      ]
    },
    {
      "cell_type": "code",
      "execution_count": null,
      "metadata": {
        "id": "AgtZbD9n4s_q",
        "outputId": "7bcaf76e-3588-4d4e-f38b-b34136fb6469",
        "colab": {
          "base_uri": "https://localhost:8080/"
        }
      },
      "outputs": [
        {
          "output_type": "stream",
          "name": "stdout",
          "text": [
            "Found HTML tags/entities:\n",
            "<br />\n",
            "<em>\n",
            "<p>\n"
          ]
        }
      ],
      "source": [
        "# Check for common HTML tags or entities in the entire dataset\n",
        "found_tags = set()\n",
        "\n",
        "for review in data['review'].values:\n",
        "    # Check for the presence of common HTML tags/entities\n",
        "    for tag in ['<br />', '<p>', '<a>', '<strong>', '<em>', '&nbsp;', '<h1>', '<h2>', '<h3>', '<h4>', '<h5>', '<h6>',\n",
        "                '<ul>', '<ol>', '<li>', '<blockquote>', '<code>', '<img>', '<div>', '<span>']:\n",
        "        if tag in review:\n",
        "            found_tags.add(tag)\n",
        "\n",
        "# Print the found HTML tags/entities\n",
        "if found_tags:\n",
        "    print(\"Found HTML tags/entities:\")\n",
        "    for tag in found_tags:\n",
        "        print(tag)\n"
      ]
    },
    {
      "cell_type": "code",
      "execution_count": null,
      "metadata": {
        "id": "9ezuCmmX4s_r",
        "outputId": "5ff2993f-80e6-4d16-ee9d-959eb0d308ea",
        "colab": {
          "base_uri": "https://localhost:8080/"
        }
      },
      "outputs": [
        {
          "output_type": "stream",
          "name": "stderr",
          "text": [
            "<ipython-input-9-c3e14cbf269b>:3: MarkupResemblesLocatorWarning: The input looks more like a filename than markup. You may want to open this file and pass the filehandle into Beautiful Soup.\n",
            "  soup = BeautifulSoup(text, \"html.parser\")\n"
          ]
        }
      ],
      "source": [
        "#Removing the html strips\n",
        "def strip_html(text):\n",
        "    soup = BeautifulSoup(text, \"html.parser\")\n",
        "    return soup.get_text(separator=' ')\n",
        "\n",
        "# Apply the function to the \"review\" column and update the column\n",
        "processed_data = data.copy()\n",
        "processed_data[\"review\"] = data[\"review\"].apply(strip_html)\n"
      ]
    },
    {
      "cell_type": "code",
      "execution_count": null,
      "metadata": {
        "id": "RAxlrGkn4s_r"
      },
      "outputs": [],
      "source": [
        "# Check for common HTML tags or entities in the entire dataset\n",
        "found_tags = set()\n",
        "\n",
        "for review in processed_data['review'].values:\n",
        "    # Check for the presence of common HTML tags/entities\n",
        "    for tag in ['<br />', '<p>', '<a>', '<strong>', '<em>', '&nbsp;', '<h1>', '<h2>', '<h3>', '<h4>', '<h5>', '<h6>',\n",
        "                '<ul>', '<ol>', '<li>', '<blockquote>', '<code>', '<img>', '<div>', '<span>']:\n",
        "        if tag in review:\n",
        "            found_tags.add(tag)\n",
        "\n",
        "# Print the found HTML tags/entities\n",
        "if found_tags:\n",
        "    print(\"Found HTML tags/entities:\")\n",
        "    for tag in found_tags:\n",
        "        print(tag)\n"
      ]
    },
    {
      "cell_type": "code",
      "execution_count": null,
      "metadata": {
        "id": "BIRgnZ8hw9F6",
        "outputId": "0daf9ffb-8371-4120-d4fa-abcca710fe41",
        "colab": {
          "base_uri": "https://localhost:8080/",
          "height": 206
        }
      },
      "outputs": [
        {
          "output_type": "execute_result",
          "data": {
            "text/plain": [
              "                                              review sentiment\n",
              "0  One of the other reviewers has mentioned that ...  positive\n",
              "1  A wonderful little production.  The filming te...  positive\n",
              "2  I thought this was a wonderful way to spend ti...  positive\n",
              "3  Basically there's a family where a little boy ...  negative\n",
              "4  Petter Mattei's \"Love in the Time of Money\" is...  positive"
            ],
            "text/html": [
              "\n",
              "  <div id=\"df-966066da-5560-4b40-a573-1edbc595a09f\" class=\"colab-df-container\">\n",
              "    <div>\n",
              "<style scoped>\n",
              "    .dataframe tbody tr th:only-of-type {\n",
              "        vertical-align: middle;\n",
              "    }\n",
              "\n",
              "    .dataframe tbody tr th {\n",
              "        vertical-align: top;\n",
              "    }\n",
              "\n",
              "    .dataframe thead th {\n",
              "        text-align: right;\n",
              "    }\n",
              "</style>\n",
              "<table border=\"1\" class=\"dataframe\">\n",
              "  <thead>\n",
              "    <tr style=\"text-align: right;\">\n",
              "      <th></th>\n",
              "      <th>review</th>\n",
              "      <th>sentiment</th>\n",
              "    </tr>\n",
              "  </thead>\n",
              "  <tbody>\n",
              "    <tr>\n",
              "      <th>0</th>\n",
              "      <td>One of the other reviewers has mentioned that ...</td>\n",
              "      <td>positive</td>\n",
              "    </tr>\n",
              "    <tr>\n",
              "      <th>1</th>\n",
              "      <td>A wonderful little production.  The filming te...</td>\n",
              "      <td>positive</td>\n",
              "    </tr>\n",
              "    <tr>\n",
              "      <th>2</th>\n",
              "      <td>I thought this was a wonderful way to spend ti...</td>\n",
              "      <td>positive</td>\n",
              "    </tr>\n",
              "    <tr>\n",
              "      <th>3</th>\n",
              "      <td>Basically there's a family where a little boy ...</td>\n",
              "      <td>negative</td>\n",
              "    </tr>\n",
              "    <tr>\n",
              "      <th>4</th>\n",
              "      <td>Petter Mattei's \"Love in the Time of Money\" is...</td>\n",
              "      <td>positive</td>\n",
              "    </tr>\n",
              "  </tbody>\n",
              "</table>\n",
              "</div>\n",
              "    <div class=\"colab-df-buttons\">\n",
              "\n",
              "  <div class=\"colab-df-container\">\n",
              "    <button class=\"colab-df-convert\" onclick=\"convertToInteractive('df-966066da-5560-4b40-a573-1edbc595a09f')\"\n",
              "            title=\"Convert this dataframe to an interactive table.\"\n",
              "            style=\"display:none;\">\n",
              "\n",
              "  <svg xmlns=\"http://www.w3.org/2000/svg\" height=\"24px\" viewBox=\"0 -960 960 960\">\n",
              "    <path d=\"M120-120v-720h720v720H120Zm60-500h600v-160H180v160Zm220 220h160v-160H400v160Zm0 220h160v-160H400v160ZM180-400h160v-160H180v160Zm440 0h160v-160H620v160ZM180-180h160v-160H180v160Zm440 0h160v-160H620v160Z\"/>\n",
              "  </svg>\n",
              "    </button>\n",
              "\n",
              "  <style>\n",
              "    .colab-df-container {\n",
              "      display:flex;\n",
              "      gap: 12px;\n",
              "    }\n",
              "\n",
              "    .colab-df-convert {\n",
              "      background-color: #E8F0FE;\n",
              "      border: none;\n",
              "      border-radius: 50%;\n",
              "      cursor: pointer;\n",
              "      display: none;\n",
              "      fill: #1967D2;\n",
              "      height: 32px;\n",
              "      padding: 0 0 0 0;\n",
              "      width: 32px;\n",
              "    }\n",
              "\n",
              "    .colab-df-convert:hover {\n",
              "      background-color: #E2EBFA;\n",
              "      box-shadow: 0px 1px 2px rgba(60, 64, 67, 0.3), 0px 1px 3px 1px rgba(60, 64, 67, 0.15);\n",
              "      fill: #174EA6;\n",
              "    }\n",
              "\n",
              "    .colab-df-buttons div {\n",
              "      margin-bottom: 4px;\n",
              "    }\n",
              "\n",
              "    [theme=dark] .colab-df-convert {\n",
              "      background-color: #3B4455;\n",
              "      fill: #D2E3FC;\n",
              "    }\n",
              "\n",
              "    [theme=dark] .colab-df-convert:hover {\n",
              "      background-color: #434B5C;\n",
              "      box-shadow: 0px 1px 3px 1px rgba(0, 0, 0, 0.15);\n",
              "      filter: drop-shadow(0px 1px 2px rgba(0, 0, 0, 0.3));\n",
              "      fill: #FFFFFF;\n",
              "    }\n",
              "  </style>\n",
              "\n",
              "    <script>\n",
              "      const buttonEl =\n",
              "        document.querySelector('#df-966066da-5560-4b40-a573-1edbc595a09f button.colab-df-convert');\n",
              "      buttonEl.style.display =\n",
              "        google.colab.kernel.accessAllowed ? 'block' : 'none';\n",
              "\n",
              "      async function convertToInteractive(key) {\n",
              "        const element = document.querySelector('#df-966066da-5560-4b40-a573-1edbc595a09f');\n",
              "        const dataTable =\n",
              "          await google.colab.kernel.invokeFunction('convertToInteractive',\n",
              "                                                    [key], {});\n",
              "        if (!dataTable) return;\n",
              "\n",
              "        const docLinkHtml = 'Like what you see? Visit the ' +\n",
              "          '<a target=\"_blank\" href=https://colab.research.google.com/notebooks/data_table.ipynb>data table notebook</a>'\n",
              "          + ' to learn more about interactive tables.';\n",
              "        element.innerHTML = '';\n",
              "        dataTable['output_type'] = 'display_data';\n",
              "        await google.colab.output.renderOutput(dataTable, element);\n",
              "        const docLink = document.createElement('div');\n",
              "        docLink.innerHTML = docLinkHtml;\n",
              "        element.appendChild(docLink);\n",
              "      }\n",
              "    </script>\n",
              "  </div>\n",
              "\n",
              "\n",
              "<div id=\"df-88a1f032-032e-4226-a421-afeb660be0e7\">\n",
              "  <button class=\"colab-df-quickchart\" onclick=\"quickchart('df-88a1f032-032e-4226-a421-afeb660be0e7')\"\n",
              "            title=\"Suggest charts\"\n",
              "            style=\"display:none;\">\n",
              "\n",
              "<svg xmlns=\"http://www.w3.org/2000/svg\" height=\"24px\"viewBox=\"0 0 24 24\"\n",
              "     width=\"24px\">\n",
              "    <g>\n",
              "        <path d=\"M19 3H5c-1.1 0-2 .9-2 2v14c0 1.1.9 2 2 2h14c1.1 0 2-.9 2-2V5c0-1.1-.9-2-2-2zM9 17H7v-7h2v7zm4 0h-2V7h2v10zm4 0h-2v-4h2v4z\"/>\n",
              "    </g>\n",
              "</svg>\n",
              "  </button>\n",
              "\n",
              "<style>\n",
              "  .colab-df-quickchart {\n",
              "      --bg-color: #E8F0FE;\n",
              "      --fill-color: #1967D2;\n",
              "      --hover-bg-color: #E2EBFA;\n",
              "      --hover-fill-color: #174EA6;\n",
              "      --disabled-fill-color: #AAA;\n",
              "      --disabled-bg-color: #DDD;\n",
              "  }\n",
              "\n",
              "  [theme=dark] .colab-df-quickchart {\n",
              "      --bg-color: #3B4455;\n",
              "      --fill-color: #D2E3FC;\n",
              "      --hover-bg-color: #434B5C;\n",
              "      --hover-fill-color: #FFFFFF;\n",
              "      --disabled-bg-color: #3B4455;\n",
              "      --disabled-fill-color: #666;\n",
              "  }\n",
              "\n",
              "  .colab-df-quickchart {\n",
              "    background-color: var(--bg-color);\n",
              "    border: none;\n",
              "    border-radius: 50%;\n",
              "    cursor: pointer;\n",
              "    display: none;\n",
              "    fill: var(--fill-color);\n",
              "    height: 32px;\n",
              "    padding: 0;\n",
              "    width: 32px;\n",
              "  }\n",
              "\n",
              "  .colab-df-quickchart:hover {\n",
              "    background-color: var(--hover-bg-color);\n",
              "    box-shadow: 0 1px 2px rgba(60, 64, 67, 0.3), 0 1px 3px 1px rgba(60, 64, 67, 0.15);\n",
              "    fill: var(--button-hover-fill-color);\n",
              "  }\n",
              "\n",
              "  .colab-df-quickchart-complete:disabled,\n",
              "  .colab-df-quickchart-complete:disabled:hover {\n",
              "    background-color: var(--disabled-bg-color);\n",
              "    fill: var(--disabled-fill-color);\n",
              "    box-shadow: none;\n",
              "  }\n",
              "\n",
              "  .colab-df-spinner {\n",
              "    border: 2px solid var(--fill-color);\n",
              "    border-color: transparent;\n",
              "    border-bottom-color: var(--fill-color);\n",
              "    animation:\n",
              "      spin 1s steps(1) infinite;\n",
              "  }\n",
              "\n",
              "  @keyframes spin {\n",
              "    0% {\n",
              "      border-color: transparent;\n",
              "      border-bottom-color: var(--fill-color);\n",
              "      border-left-color: var(--fill-color);\n",
              "    }\n",
              "    20% {\n",
              "      border-color: transparent;\n",
              "      border-left-color: var(--fill-color);\n",
              "      border-top-color: var(--fill-color);\n",
              "    }\n",
              "    30% {\n",
              "      border-color: transparent;\n",
              "      border-left-color: var(--fill-color);\n",
              "      border-top-color: var(--fill-color);\n",
              "      border-right-color: var(--fill-color);\n",
              "    }\n",
              "    40% {\n",
              "      border-color: transparent;\n",
              "      border-right-color: var(--fill-color);\n",
              "      border-top-color: var(--fill-color);\n",
              "    }\n",
              "    60% {\n",
              "      border-color: transparent;\n",
              "      border-right-color: var(--fill-color);\n",
              "    }\n",
              "    80% {\n",
              "      border-color: transparent;\n",
              "      border-right-color: var(--fill-color);\n",
              "      border-bottom-color: var(--fill-color);\n",
              "    }\n",
              "    90% {\n",
              "      border-color: transparent;\n",
              "      border-bottom-color: var(--fill-color);\n",
              "    }\n",
              "  }\n",
              "</style>\n",
              "\n",
              "  <script>\n",
              "    async function quickchart(key) {\n",
              "      const quickchartButtonEl =\n",
              "        document.querySelector('#' + key + ' button');\n",
              "      quickchartButtonEl.disabled = true;  // To prevent multiple clicks.\n",
              "      quickchartButtonEl.classList.add('colab-df-spinner');\n",
              "      try {\n",
              "        const charts = await google.colab.kernel.invokeFunction(\n",
              "            'suggestCharts', [key], {});\n",
              "      } catch (error) {\n",
              "        console.error('Error during call to suggestCharts:', error);\n",
              "      }\n",
              "      quickchartButtonEl.classList.remove('colab-df-spinner');\n",
              "      quickchartButtonEl.classList.add('colab-df-quickchart-complete');\n",
              "    }\n",
              "    (() => {\n",
              "      let quickchartButtonEl =\n",
              "        document.querySelector('#df-88a1f032-032e-4226-a421-afeb660be0e7 button');\n",
              "      quickchartButtonEl.style.display =\n",
              "        google.colab.kernel.accessAllowed ? 'block' : 'none';\n",
              "    })();\n",
              "  </script>\n",
              "</div>\n",
              "    </div>\n",
              "  </div>\n"
            ]
          },
          "metadata": {},
          "execution_count": 11
        }
      ],
      "source": [
        "processed_data.head()"
      ]
    },
    {
      "cell_type": "markdown",
      "source": [
        "All the HTML tags have been removed, and replaced with blank spaces. The absence of these tags is evident in the second review."
      ],
      "metadata": {
        "id": "W6ZMSxjM9ifU"
      }
    },
    {
      "cell_type": "markdown",
      "source": [
        "### Rest of the Pre-Processing"
      ],
      "metadata": {
        "id": "4DlqUbU_GF8o"
      }
    },
    {
      "cell_type": "markdown",
      "source": [
        "- The preprocessing function we used comprises of the following steps:\n",
        "\n",
        "  1. Remove URLs\n",
        "  \n",
        "  2. Lowercase the text\n",
        "  \n",
        "  3. Remove punctuations\n",
        "  \n",
        "  4. Expand contractions and split words\n",
        "  \n",
        "  5. Remove stopwords\n",
        "  \n",
        "  6. Join words back into a single string\n",
        "\n",
        "- The above function was applied to the \"review\" column with the review text.\n",
        "- During the preprocessing step of splitting words, e.g. “we’re” into “we are”, we used the “contractions” package which is dictionary-based. Further details on the contractions package and the strings converted can be found on https://github.com/kootenpv/contractions/blob/master/contractions/data/contractions_dict.json and its surrounding files.\n"
      ],
      "metadata": {
        "id": "aHn6_kJC95k9"
      }
    },
    {
      "cell_type": "code",
      "execution_count": null,
      "metadata": {
        "id": "hLh1w-6Gw9F6"
      },
      "outputs": [],
      "source": [
        "# Define stopwords\n",
        "stop_words = set(stopwords.words('english'))\n",
        "\n",
        "def preprocessing_text(text):\n",
        "    # Get rid of URLs\n",
        "    text = re.sub('https?://\\S+|www\\.\\S+', '', text)\n",
        "\n",
        "    # Lowercase the text\n",
        "    text = text.lower()\n",
        "\n",
        "    # Removing punctuations using replace() method\n",
        "    for punctuation in string.punctuation:\n",
        "        text = text.replace(punctuation, '')\n",
        "\n",
        "    # Expand contractions and split\n",
        "    words = contractions.fix(text).split()\n",
        "\n",
        "    # Remove stopwords\n",
        "    words = [word for word in words if word not in stop_words]\n",
        "\n",
        "    # Join the words back into a single string\n",
        "    text = ' '.join(words)\n",
        "\n",
        "    return text\n",
        "\n",
        "# Apply the function to the \"review\" column and update the column\n",
        "processed_data[\"review\"] = processed_data[\"review\"].apply(preprocessing_text)\n"
      ]
    },
    {
      "cell_type": "markdown",
      "source": [
        "- **Dataset Splitting:** The dataset is divided into training and testing sets.\n",
        "\n",
        "  - `X_train` and `y_train` are utilized for model training.\n",
        "  - `X_test` and `y_test` are employed to assess the model's performance.\n",
        "\n",
        "  Parameters:\n",
        "  - `test_size=0.2`: Allocates 20% of the data for testing.\n",
        "  - `shuffle=True`: Ensures that the data points are randomly shuffled. This is turned on by default.\n"
      ],
      "metadata": {
        "id": "v89s342d6Tfz"
      }
    },
    {
      "cell_type": "code",
      "execution_count": null,
      "metadata": {
        "id": "Yvy_vkLE4s_u"
      },
      "outputs": [],
      "source": [
        "X_train, X_test, y_train, y_test = train_test_split(processed_data[\"review\"], processed_data[\"sentiment\"], test_size=0.2, shuffle=True)"
      ]
    },
    {
      "cell_type": "markdown",
      "source": [
        "Some properties are crucial for text data preparation before neural network processing.\n",
        "\n",
        "- **vocab_size = 10000:** Sets the max number of unique words in the vocabulary to 10,000.\n",
        "\n",
        "- **max_length = 1500:** Defines the maximum sequence length. Texts longer than 1500 words are truncated, while shorter ones are padded. This parameter value was found after a careful hyperparameter tuning.\n",
        "\n",
        "- **trunc_type = 'post':** When truncation is needed, it occurs at the end of the text.\n",
        "\n",
        "- **padding_type = 'post':** Padding is applied at the end of texts shorter than `max_length`.\n",
        "\n",
        "- **oov_tok = &lt;OOV&gt;:** Represents the Out-Of-Vocabulary token, handling unseen words during training.\n"
      ],
      "metadata": {
        "id": "EaqHDl7P7IIw"
      }
    },
    {
      "cell_type": "code",
      "execution_count": null,
      "metadata": {
        "id": "3P3WpeqJ4s_v"
      },
      "outputs": [],
      "source": [
        "vocab_size = 10000\n",
        "max_length = 1500\n",
        "\n",
        "trunc_type = 'post'\n",
        "padding_type = 'post'\n",
        "oov_tok = '<OOV>'"
      ]
    },
    {
      "cell_type": "markdown",
      "metadata": {
        "id": "7FGzfueN4s_v"
      },
      "source": [
        "**Tokenizer Definition:**\n",
        "\n",
        "Creating a tokenizer, a tool that converts text into a numerical format suitable for neural networks. The parameter `num_words=vocab_size` restricts the tokenizer to the top 10,000 most frequent words, as defined by `vocab_size`. The special token `<OOV>` is assigned to out-of-vocabulary words using `oov_token=oov_tok`.\n",
        "\n",
        "**Fitting on Texts:**\n",
        "\n",
        "We 'fit' the tokenizer to the training text data (`X_train`). This process involves analyzing the text, building the vocabulary, and assigning numerical values to words.\n"
      ]
    },
    {
      "cell_type": "code",
      "execution_count": null,
      "metadata": {
        "id": "iaBzvgzt4s_v"
      },
      "outputs": [],
      "source": [
        "tokenizer = Tokenizer(num_words=vocab_size, oov_token=oov_tok)\n",
        "tokenizer.fit_on_texts(X_train)\n"
      ]
    },
    {
      "cell_type": "markdown",
      "metadata": {
        "id": "y7bIg2qI4s_v"
      },
      "source": [
        "**Tokenization:**\n",
        "\n",
        "- `X_train = tokenizer.texts_to_sequences(X_train)`: Converts the text in the training set (`X_train`) into sequences of numerical values using the earlier-defined tokenizer.\n",
        "  \n",
        "- `X_test = tokenizer.texts_to_sequences(X_test)`: Similarly, applies tokenization to the test set (`X_test`).\n",
        "\n",
        "**Padding:**\n",
        "\n",
        "- `X_train = pad_sequences(X_train, maxlen=max_length, padding=padding_type, truncating=trunc_type)`: Ensures all sequences in the training set have the same length by padding or truncating as needed, resulting in sequences with a length of the max_length variable defined above (1500 words).\n",
        "\n",
        "- `X_test = pad_sequences(X_test, maxlen=max_length, padding=padding_type, truncating=trunc_type)`: Analogously applies padding to the test set.\n"
      ]
    },
    {
      "cell_type": "code",
      "execution_count": null,
      "metadata": {
        "id": "m9Ub-0tm4s_w"
      },
      "outputs": [],
      "source": [
        "X_train = tokenizer.texts_to_sequences(X_train)\n",
        "X_test = tokenizer.texts_to_sequences(X_test)\n",
        "\n",
        "X_train = pad_sequences(X_train, maxlen=max_length,\n",
        "                         padding=padding_type,\n",
        "                         truncating=trunc_type)\n",
        "X_test = pad_sequences(X_test, maxlen=max_length,\n",
        "                         padding=padding_type,\n",
        "                         truncating=trunc_type)\n",
        "\n",
        "# Initialize the label encoder\n",
        "label_encoder = LabelEncoder()\n",
        "\n",
        "# Transform the labels in y_train into numerical format using and encoder for compatibility with neural networks\n",
        "y_train_encoded = label_encoder.fit_transform(y_train)\n",
        "y_test_encoded = label_encoder.fit_transform(y_test)\n",
        "\n",
        "# Now y_train_encoded and y_test_encoded contain numerical labels"
      ]
    },
    {
      "cell_type": "markdown",
      "metadata": {
        "id": "B53-W6X34s_w"
      },
      "source": [
        "## Build and Train the Feed-forward Neural Network\n",
        "\n"
      ]
    },
    {
      "cell_type": "markdown",
      "source": [
        "- Using a validation set, we attempted to finetune several hyperparameters: max_length, neurons_multiplier_values for the neurons, dropout_value and learning_rate_values for the optimizer.\n",
        "- A lower learning rate is found to be more suitable for increasing validation accuracy.\n",
        "- Of note is that we chose the ADAM optimizer after trying Stochastic Gradient Descent and Adagrad as well."
      ],
      "metadata": {
        "id": "nWw29q69_9Qt"
      }
    },
    {
      "cell_type": "markdown",
      "metadata": {
        "id": "B7sOwfkXFZFc"
      },
      "source": [
        "### Feed-forward Neural Network Architecture"
      ]
    },
    {
      "cell_type": "markdown",
      "metadata": {
        "id": "X7lkoeXqCzEd"
      },
      "source": [
        "To build the architecture the Keras package was used, with the model detailed as below:\n",
        "\n",
        "- **Embedding Layer:** Converts input text to 100-dimensional vectors.\n",
        "- **Average Pooling Layer:** Global Average Pooling is applied to the output of the Embedding layer. This layer averages the values along the sequence dimension.\n",
        "- **Fully Connected Layers:** Utilize ReLU activation with dropout for regularization.\n",
        "  - Dense layer with 64 units.\n",
        "  - Dropout with a rate of 0.2.\n",
        "  - Dense layer with 32 units.\n",
        "  - Another Dropout with a rate of 0.2.\n",
        "- **Output Layer:** Sigmoid activation for binary classification.\n",
        "\n",
        "**Training Configuration:**\n",
        "- Loss Function: Binary Crossentropy.\n",
        "- Optimizer: Adam.\n",
        "\n",
        "**Additional Technique:**\n",
        "- Early stopping is applied with a patience of 3 to prevent overfitting during training.\n",
        "\n",
        "**Batch Size Selection:**\n",
        "\n",
        "- A batch size of 250 is chosen, representing the number of training examples processed in each iteration, to find a balance between computational efficiency and memory constraints."
      ]
    },
    {
      "cell_type": "code",
      "execution_count": null,
      "metadata": {
        "id": "xTSmGZVIHXcI"
      },
      "outputs": [],
      "source": [
        "def build_fnn_pooled_model():\n",
        "    model = Sequential()\n",
        "    model.add(Embedding(vocab_size, 100, input_length=max_length))\n",
        "\n",
        "    model.add(GlobalAveragePooling1D())  # Apply mean pooling\n",
        "\n",
        "    # Fully connected layers\n",
        "    model.add(Dense(64, activation='relu'))\n",
        "    model.add(Dropout(0.2))\n",
        "\n",
        "    model.add(Dense(32, activation='relu'))\n",
        "    model.add(Dropout(0.2))\n",
        "\n",
        "    # Output layer for binary classification\n",
        "    model.add(Dense(1, activation='sigmoid'))\n",
        "\n",
        "    model.compile(loss='binary_crossentropy', optimizer = Adam(learning_rate=0.0001), metrics=['accuracy'])\n",
        "\n",
        "    early_stopping = EarlyStopping(monitor='val_loss', patience=3)  # Apply early stopping\n",
        "\n",
        "    return model, early_stopping"
      ]
    },
    {
      "cell_type": "code",
      "execution_count": null,
      "metadata": {
        "id": "QXQEegFAFvec",
        "outputId": "6360f91d-25b5-41c6-ced9-117295fff45a",
        "colab": {
          "base_uri": "https://localhost:8080/"
        }
      },
      "outputs": [
        {
          "output_type": "stream",
          "name": "stdout",
          "text": [
            "Model: \"sequential_8\"\n",
            "_________________________________________________________________\n",
            " Layer (type)                Output Shape              Param #   \n",
            "=================================================================\n",
            " embedding_8 (Embedding)     (None, 1500, 100)         1000000   \n",
            "                                                                 \n",
            " global_average_pooling1d_8  (None, 100)               0         \n",
            "  (GlobalAveragePooling1D)                                       \n",
            "                                                                 \n",
            " dense_24 (Dense)            (None, 64)                6464      \n",
            "                                                                 \n",
            " dropout_16 (Dropout)        (None, 64)                0         \n",
            "                                                                 \n",
            " dense_25 (Dense)            (None, 32)                2080      \n",
            "                                                                 \n",
            " dropout_17 (Dropout)        (None, 32)                0         \n",
            "                                                                 \n",
            " dense_26 (Dense)            (None, 1)                 33        \n",
            "                                                                 \n",
            "=================================================================\n",
            "Total params: 1008577 (3.85 MB)\n",
            "Trainable params: 1008577 (3.85 MB)\n",
            "Non-trainable params: 0 (0.00 Byte)\n",
            "_________________________________________________________________\n"
          ]
        }
      ],
      "source": [
        "model, early_stopping = build_fnn_pooled_model()\n",
        "\n",
        "model.summary()"
      ]
    },
    {
      "cell_type": "code",
      "execution_count": null,
      "metadata": {
        "id": "tdEULC8ZDSI3",
        "outputId": "0b965c71-17b7-4d3c-e04b-14bf2106f8e3",
        "colab": {
          "base_uri": "https://localhost:8080/"
        }
      },
      "outputs": [
        {
          "output_type": "stream",
          "name": "stdout",
          "text": [
            "Epoch 1/200\n",
            "128/128 [==============================] - 25s 190ms/step - loss: 0.6933 - accuracy: 0.4948 - val_loss: 0.6930 - val_accuracy: 0.4995\n",
            "Epoch 2/200\n",
            "128/128 [==============================] - 18s 138ms/step - loss: 0.6930 - accuracy: 0.5092 - val_loss: 0.6928 - val_accuracy: 0.4995\n",
            "Epoch 3/200\n",
            "128/128 [==============================] - 17s 132ms/step - loss: 0.6928 - accuracy: 0.5173 - val_loss: 0.6925 - val_accuracy: 0.5207\n",
            "Epoch 4/200\n",
            "128/128 [==============================] - 11s 89ms/step - loss: 0.6923 - accuracy: 0.5303 - val_loss: 0.6918 - val_accuracy: 0.5229\n",
            "Epoch 5/200\n",
            "128/128 [==============================] - 11s 89ms/step - loss: 0.6913 - accuracy: 0.5375 - val_loss: 0.6905 - val_accuracy: 0.5650\n",
            "Epoch 6/200\n",
            "128/128 [==============================] - 9s 69ms/step - loss: 0.6894 - accuracy: 0.5873 - val_loss: 0.6877 - val_accuracy: 0.7431\n",
            "Epoch 7/200\n",
            "128/128 [==============================] - 9s 71ms/step - loss: 0.6854 - accuracy: 0.6403 - val_loss: 0.6818 - val_accuracy: 0.7379\n",
            "Epoch 8/200\n",
            "128/128 [==============================] - 7s 58ms/step - loss: 0.6764 - accuracy: 0.6852 - val_loss: 0.6694 - val_accuracy: 0.7576\n",
            "Epoch 9/200\n",
            "128/128 [==============================] - 6s 47ms/step - loss: 0.6597 - accuracy: 0.7225 - val_loss: 0.6475 - val_accuracy: 0.7910\n",
            "Epoch 10/200\n",
            "128/128 [==============================] - 6s 46ms/step - loss: 0.6322 - accuracy: 0.7591 - val_loss: 0.6144 - val_accuracy: 0.8194\n",
            "Epoch 11/200\n",
            "128/128 [==============================] - 3s 23ms/step - loss: 0.5946 - accuracy: 0.7813 - val_loss: 0.5727 - val_accuracy: 0.8199\n",
            "Epoch 12/200\n",
            "128/128 [==============================] - 6s 48ms/step - loss: 0.5499 - accuracy: 0.7989 - val_loss: 0.5246 - val_accuracy: 0.8353\n",
            "Epoch 13/200\n",
            "128/128 [==============================] - 4s 34ms/step - loss: 0.5032 - accuracy: 0.8170 - val_loss: 0.4802 - val_accuracy: 0.8520\n",
            "Epoch 14/200\n",
            "128/128 [==============================] - 3s 27ms/step - loss: 0.4618 - accuracy: 0.8309 - val_loss: 0.4419 - val_accuracy: 0.8459\n",
            "Epoch 15/200\n",
            "128/128 [==============================] - 4s 27ms/step - loss: 0.4242 - accuracy: 0.8452 - val_loss: 0.4097 - val_accuracy: 0.8643\n",
            "Epoch 16/200\n",
            "128/128 [==============================] - 5s 40ms/step - loss: 0.3943 - accuracy: 0.8543 - val_loss: 0.3811 - val_accuracy: 0.8676\n",
            "Epoch 17/200\n",
            "128/128 [==============================] - 3s 25ms/step - loss: 0.3686 - accuracy: 0.8634 - val_loss: 0.3598 - val_accuracy: 0.8767\n",
            "Epoch 18/200\n",
            "128/128 [==============================] - 3s 22ms/step - loss: 0.3481 - accuracy: 0.8700 - val_loss: 0.3427 - val_accuracy: 0.8769\n",
            "Epoch 19/200\n",
            "128/128 [==============================] - 3s 25ms/step - loss: 0.3301 - accuracy: 0.8766 - val_loss: 0.3295 - val_accuracy: 0.8823\n",
            "Epoch 20/200\n",
            "128/128 [==============================] - 4s 32ms/step - loss: 0.3162 - accuracy: 0.8811 - val_loss: 0.3193 - val_accuracy: 0.8835\n",
            "Epoch 21/200\n",
            "128/128 [==============================] - 3s 22ms/step - loss: 0.3028 - accuracy: 0.8862 - val_loss: 0.3085 - val_accuracy: 0.8856\n",
            "Epoch 22/200\n",
            "128/128 [==============================] - 3s 22ms/step - loss: 0.2931 - accuracy: 0.8882 - val_loss: 0.3022 - val_accuracy: 0.8866\n",
            "Epoch 23/200\n",
            "128/128 [==============================] - 2s 19ms/step - loss: 0.2830 - accuracy: 0.8934 - val_loss: 0.2948 - val_accuracy: 0.8880\n",
            "Epoch 24/200\n",
            "128/128 [==============================] - 2s 18ms/step - loss: 0.2753 - accuracy: 0.8962 - val_loss: 0.2899 - val_accuracy: 0.8907\n",
            "Epoch 25/200\n",
            "128/128 [==============================] - 3s 20ms/step - loss: 0.2668 - accuracy: 0.8987 - val_loss: 0.2854 - val_accuracy: 0.8910\n",
            "Epoch 26/200\n",
            "128/128 [==============================] - 3s 23ms/step - loss: 0.2591 - accuracy: 0.9019 - val_loss: 0.2819 - val_accuracy: 0.8928\n",
            "Epoch 27/200\n",
            "128/128 [==============================] - 3s 23ms/step - loss: 0.2535 - accuracy: 0.9050 - val_loss: 0.2827 - val_accuracy: 0.8879\n",
            "Epoch 28/200\n",
            "128/128 [==============================] - 2s 20ms/step - loss: 0.2494 - accuracy: 0.9057 - val_loss: 0.2812 - val_accuracy: 0.8907\n",
            "Epoch 29/200\n",
            "128/128 [==============================] - 3s 21ms/step - loss: 0.2432 - accuracy: 0.9067 - val_loss: 0.2749 - val_accuracy: 0.8942\n",
            "Epoch 30/200\n",
            "128/128 [==============================] - 3s 21ms/step - loss: 0.2372 - accuracy: 0.9103 - val_loss: 0.2718 - val_accuracy: 0.8963\n",
            "Epoch 31/200\n",
            "128/128 [==============================] - 2s 19ms/step - loss: 0.2337 - accuracy: 0.9116 - val_loss: 0.2704 - val_accuracy: 0.8966\n",
            "Epoch 32/200\n",
            "128/128 [==============================] - 3s 24ms/step - loss: 0.2299 - accuracy: 0.9130 - val_loss: 0.2687 - val_accuracy: 0.8967\n",
            "Epoch 33/200\n",
            "128/128 [==============================] - 2s 15ms/step - loss: 0.2253 - accuracy: 0.9149 - val_loss: 0.2676 - val_accuracy: 0.8975\n",
            "Epoch 34/200\n",
            "128/128 [==============================] - 2s 17ms/step - loss: 0.2218 - accuracy: 0.9156 - val_loss: 0.2673 - val_accuracy: 0.8986\n",
            "Epoch 35/200\n",
            "128/128 [==============================] - 2s 18ms/step - loss: 0.2183 - accuracy: 0.9170 - val_loss: 0.2670 - val_accuracy: 0.8967\n",
            "Epoch 36/200\n",
            "128/128 [==============================] - 2s 15ms/step - loss: 0.2150 - accuracy: 0.9183 - val_loss: 0.2675 - val_accuracy: 0.8989\n",
            "Epoch 37/200\n",
            "128/128 [==============================] - 3s 22ms/step - loss: 0.2123 - accuracy: 0.9200 - val_loss: 0.2659 - val_accuracy: 0.8975\n",
            "Epoch 38/200\n",
            "128/128 [==============================] - 2s 19ms/step - loss: 0.2080 - accuracy: 0.9220 - val_loss: 0.2666 - val_accuracy: 0.8970\n",
            "Epoch 39/200\n",
            "128/128 [==============================] - 3s 21ms/step - loss: 0.2056 - accuracy: 0.9222 - val_loss: 0.2638 - val_accuracy: 0.8992\n",
            "Epoch 40/200\n",
            "128/128 [==============================] - 2s 15ms/step - loss: 0.2024 - accuracy: 0.9233 - val_loss: 0.2646 - val_accuracy: 0.8995\n",
            "Epoch 41/200\n",
            "128/128 [==============================] - 2s 19ms/step - loss: 0.2005 - accuracy: 0.9254 - val_loss: 0.2639 - val_accuracy: 0.8982\n",
            "Epoch 42/200\n",
            "128/128 [==============================] - 2s 15ms/step - loss: 0.1964 - accuracy: 0.9271 - val_loss: 0.2639 - val_accuracy: 0.9006\n"
          ]
        }
      ],
      "source": [
        "# Batch size value\n",
        "batch_size = 250\n",
        "\n",
        "# Train the model\n",
        "history = model.fit(X_train, y_train_encoded, epochs=200, batch_size=batch_size, validation_split=0.2, callbacks=[early_stopping])"
      ]
    },
    {
      "cell_type": "markdown",
      "source": [
        "The training reached a final validation accuracy of 90.06% after 42 epochs, when the early stopping technique, using patience equals to 3, concluded the training process. we can now use the trained network on the Test Set."
      ],
      "metadata": {
        "id": "_tVzpqbxM2iY"
      }
    },
    {
      "cell_type": "code",
      "source": [
        "score = model.evaluate(np.asarray(X_test),np.asarray(y_test_encoded))"
      ],
      "metadata": {
        "colab": {
          "base_uri": "https://localhost:8080/"
        },
        "id": "s3tA2yroLUlL",
        "outputId": "25fdc63d-7f23-43d9-cf00-88f6ff36813f"
      },
      "execution_count": null,
      "outputs": [
        {
          "output_type": "stream",
          "name": "stdout",
          "text": [
            "313/313 [==============================] - 1s 4ms/step - loss: 0.2701 - accuracy: 0.8944\n"
          ]
        }
      ]
    },
    {
      "cell_type": "markdown",
      "source": [
        "We obtained a final accuracy of 89.44%, which, although slightly lower than the validation accuracy, is sufficiently similar to the validation accuracy, indicating that the model generalized well to unseen data and did not exhibit significant overfitting."
      ],
      "metadata": {
        "id": "m7Xz4D44OTTx"
      }
    },
    {
      "cell_type": "code",
      "source": [
        "# Make predictions using the trained model\n",
        "predictions = model.predict(np.asarray(X_test))\n",
        "\n",
        "# Set a threshold (adjust as needed)\n",
        "threshold = 0.5\n",
        "\n",
        "# Convert the predicted probabilities to class labels using the threshold\n",
        "predicted_labels = (predictions > threshold).astype(int)\n",
        "\n",
        "# Compute the confusion matrix\n",
        "conf_matrix = confusion_matrix(y_test_encoded, predicted_labels)\n",
        "\n",
        "# Compute the F1 score\n",
        "f1 = f1_score(y_test_encoded, predicted_labels, average='weighted')\n",
        "\n",
        "# Generate the classification report\n",
        "class_report = classification_report(y_test_encoded, predicted_labels, target_names=label_encoder.classes_)\n",
        "\n",
        "print(\"Confusion Matrix:\")\n",
        "print(conf_matrix)\n",
        "print(\"\\nF1 Score:\", round(f1, 5))\n",
        "print(\"\\nClassification Report:\")\n",
        "print(class_report)"
      ],
      "metadata": {
        "colab": {
          "base_uri": "https://localhost:8080/"
        },
        "id": "WDGYGOFOKJPH",
        "outputId": "2bbf881c-1f55-463b-c725-b4aeedfc017b"
      },
      "execution_count": null,
      "outputs": [
        {
          "output_type": "stream",
          "name": "stdout",
          "text": [
            "313/313 [==============================] - 1s 2ms/step\n",
            "Confusion Matrix:\n",
            "[[4468  591]\n",
            " [ 465 4476]]\n",
            "\n",
            "F1 Score: 0.8944\n",
            "\n",
            "Classification Report:\n",
            "              precision    recall  f1-score   support\n",
            "\n",
            "    negative       0.91      0.88      0.89      5059\n",
            "    positive       0.88      0.91      0.89      4941\n",
            "\n",
            "    accuracy                           0.89     10000\n",
            "   macro avg       0.89      0.89      0.89     10000\n",
            "weighted avg       0.89      0.89      0.89     10000\n",
            "\n"
          ]
        }
      ]
    },
    {
      "cell_type": "markdown",
      "source": [
        "\n",
        "The confusion matrix indicates the model's performance, showing that it correctly classified 4468 negative instances (True Negatives) and 4476 positive instances (True Positives), with 591 False Positives and 465 False Negatives.\n",
        "\n",
        "The F1 Score of 0.895 suggests a good balance between precision and recall, reflecting the model's ability to make accurate positive predictions while considering both false positives and false negatives."
      ],
      "metadata": {
        "id": "IBTcqXvQTymT"
      }
    },
    {
      "cell_type": "markdown",
      "metadata": {
        "id": "9G-Q2o2dw9GC"
      },
      "source": [
        "## Investigating incorrectly classified reviews\n",
        "\n",
        "In order to investigate what can cause the model to not accurately classify the sentiment of some of the revies, 5 random incorrectly classified reviews will be printed (where 1 stands for positive and 0 for negative)"
      ]
    },
    {
      "cell_type": "code",
      "execution_count": null,
      "metadata": {
        "id": "LY2V82RJw9GC",
        "outputId": "fa24c325-7675-4697-d2e9-9cf7a0fd018c",
        "colab": {
          "base_uri": "https://localhost:8080/"
        }
      },
      "outputs": [
        {
          "output_type": "stream",
          "name": "stdout",
          "text": [
            "Original Index: 37697, Position in y_test_encoded: 1316, True Label: 0, Predicted Label: 1, Review: Tom Cutler (Jackson) is a retired policeman who now works as a crime scene Cleaner-upper. In his latest job, he cleans a new crime scene and destroys evidence and isn't aware the crime hasn't been officially reported. Uh oh, this can't be good. <br /><br />You hear about Cleaners all the time, but usually when a mob or gangland hit is involved when bodies etc need to be removed and the area cleaned up. This one is different in that Tom Cutler works with the Police to clean up after the police have done their investigation of a crime scene. Hey, someone has to do it. You know the Police won't. The movie makes that quite clear and it is up to the family to get the area cleaned up. <br /><br />This is almost a good thriller, but a side plot involving Tom's daughter (Palmer) makes this story somewhat awkward. I guess they had to fill in some time. Oh, they brought this side plot around to connect with the another side plot, but it was still a reach and awkward. See?<br /><br />This was almost a good thriller because there was a noticeable lack of tension, suspense and the pace was somewhat draggy. The music didn't help either as I noticed the music was more appropriate for watching people take a long journey. You know, journey music. Get it? HA!<br /><br />The acting by all was excellent in this almost a good thriller. <br /><br />Violence: Yes, Sex: No, Nudity: No, Language: No\n",
            "Original Index: 41881, Position in y_test_encoded: 9024, True Label: 1, Predicted Label: 0, Review: \"Miss Cast Away\" is an amusing trifle, which dispenses with serious plot or character development to pack in as many gags as possible. Best enjoyed with a large audience that is open to such entertainments and perhaps, has had a few drinks. Most of the jokes are current-event based so in future years this film may become a time-capsule of turn-of-the-21st-century pop culture references.<br /><br />The 30i to 24p conversion of the footage does create a jerky appearance in some parts, most noticeably the opening aerial shots.<br /><br />The appearance of Micheal Jackson is indeed a strange non-sequiter event. But I, for one, find it encouraging that Mr. Jackson has shown a helpful interest in one of his protégés even after he (the director) has passed from the cute-preteen-boy stage.<br /><br />The effects work is not as bad as one review suggested. Most of it was done by a one-man crew in a brief span of time consisting of animator William Sutton, whose name seems to have been omitted from the IMDb credits. His work is an extraordinary achievement and really helps to fill in the gaps in this movie. I hope he's finally been paid!\n",
            "Original Index: 13304, Position in y_test_encoded: 1629, True Label: 0, Predicted Label: 1, Review: I think this cartoon is one of the worst cartoons I have ever watched. I would recommend this cartoon to people who are under 5. I did used to like this show when I was 4 and 5, I still only watched it when there was nothing on. Now I am other 5 and I would rather do my homework than watch it. The cartoon used to be a bit funny but they were not enough to make me burst out laughing. Now I am older I am interested in show witch are not rated Us. I have started to watch Doctor Who (12A), Torchwood (15) and Sarah Jane Adventures (PG). I am interested in things to do with Doctor Who so I am not interested in 5 year old cartoons. This cartoon didn't last very long it only had 6 seasons, it got cancelled because of it was low on viewers but some people say it was because the writers ran out of ideas but for most other shows they have at least 8 seasons.\n",
            "Original Index: 40052, Position in y_test_encoded: 8897, True Label: 0, Predicted Label: 1, Review: As much as I love Ellen Barkin (who is really underrated) I have to boo this movie. If you can't tell who did it AND why in the first half hour you obviously have never seen a psycho-sexual thriller or have never watched 20/20. It's like the filmmakers and actors didn't care that they way they were shooting it and they way they were playing the characters would be a dead giveaway.<br /><br />Overall, this movie serves to turn-on the dirty perverts who like to mix violence and sex. Not a fun movie to sit through, although if you like Ellen Barkin it's nice to see her place a tough lady.\n",
            "Original Index: 5898, Position in y_test_encoded: 3804, True Label: 1, Predicted Label: 0, Review: I have to say the worst part of the movie was the first half hour. I was really confused about who was who. For example, Bill Paxson's character had long hair and was wearing a jacket. Then, when all the males arrived at camp, it turned out there was a character who looked like Bill Paxson, but wasn't. I said where's Bill Paxson? Then, there was a guy with his girlfriend. He said she was 21. This was supposed to be a 20-year reunion of the camp director's (Alan Arkin) most memorable. Later on, this same girl was interacting and talking about her camp experiences. That made no sense. She would have been one years old. That said, the movie turned out to be pretty good. Kevin Pollak was the nice guy who was always being teased. One guy was a complete narcissist, and ended up losing his beautiful girlfriend. Alan Arkin was interesting as an old-style camp director, who admits that he has grown out of touch with modern youth. The best part was that none of the grown-up campers were successes in life. None of them had very great careers. This seemed very real life. The movie was compared to The Big Chill. In some ways it wasn't as exciting as the Big Chill, but it was a lot more realistic. So, even though the beginning is not promising, the movie ended up turning into a pretty good one.\n"
          ]
        }
      ],
      "source": [
        "predicted_labels_flattened = predicted_labels.ravel()\n",
        "predicted_labels_flattened\n",
        "\n",
        "# Get the indices of incorrectly classified instances\n",
        "incorrectly_classified_indices = np.where(y_test_encoded != predicted_labels_flattened)[0]\n",
        "\n",
        "# Create a mapping from original index to position in y_test_encoded\n",
        "index_to_position = {index: position for position, index in enumerate(y_test.index)}\n",
        "\n",
        "# Create a mapping from position in y_test_encoded to original index\n",
        "position_to_index = {position: index for index, position in index_to_position.items()}\n",
        "\n",
        "# Randomly select 5 indices from the incorrect ones\n",
        "random_indices = np.random.choice(incorrectly_classified_indices, size=min(5, len(incorrectly_classified_indices)), replace=False)\n",
        "\n",
        "# Print information about the selected instances\n",
        "for position_in_y_test_encoded in random_indices:\n",
        "    original_index = position_to_index.get(position_in_y_test_encoded, None)\n",
        "\n",
        "    if original_index is not None:\n",
        "        true_label = y_test_encoded[position_in_y_test_encoded]\n",
        "        predicted_label = predicted_labels[position_in_y_test_encoded][0]  # Extract the actual label from the array\n",
        "        review_text = data['review'].iloc[original_index]\n",
        "\n",
        "        print(f\"Original Index: {original_index}, Position in y_test_encoded: {position_in_y_test_encoded}, True Label: {true_label}, Predicted Label: {predicted_label}, Review: {review_text}\")\n",
        "    else:\n",
        "        print(f\"No original index found for position {position_in_y_test_encoded}\")\n",
        "\n"
      ]
    },
    {
      "cell_type": "markdown",
      "source": [
        "The printed reviews suggest that could be challenging for the model to interpret mixed sentiments or subtle distinctions like \"almost a good thriller\" (repeated many times in the first review) or \"not as bad as one review suggested\" (second review).\n",
        "\n",
        "Additionally, the fourth review highlights the complexity of reviews where an overall negative sentiment coexists (\"I have to boo this movie\", \"Not a fun movie to sit through\") with positive sentiments towards specific aspects (\"I love Ellen Barkin\", \"if you like Ellen Barkin it's nice to see her place a tough lady\") making classification difficult for the model.\n",
        "\n",
        "Due to the complexity of neural networks and their \"black-box nature\", achieving a complete understanding may not be entirely possible, but only to hypothesize about potential causes."
      ],
      "metadata": {
        "id": "4K4gNY9JdeDQ"
      }
    }
  ],
  "metadata": {
    "accelerator": "GPU",
    "colab": {
      "gpuType": "T4",
      "provenance": []
    },
    "kernelspec": {
      "display_name": "Python 3",
      "name": "python3"
    },
    "language_info": {
      "codemirror_mode": {
        "name": "ipython",
        "version": 3
      },
      "file_extension": ".py",
      "mimetype": "text/x-python",
      "name": "python",
      "nbconvert_exporter": "python",
      "pygments_lexer": "ipython3",
      "version": "3.11.6"
    }
  },
  "nbformat": 4,
  "nbformat_minor": 0
}